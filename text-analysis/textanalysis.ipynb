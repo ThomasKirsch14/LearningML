{
 "cells": [
  {
   "cell_type": "markdown",
   "metadata": {},
   "source": [
    "<div class=\"alert alert-info\"><h1>Natural Language Processing with <code>NLTK</code>"
   ]
  },
  {
   "cell_type": "code",
   "execution_count": 8,
   "metadata": {},
   "outputs": [
    {
     "name": "stderr",
     "output_type": "stream",
     "text": [
      "[nltk_data] Downloading package punkt to\n",
      "[nltk_data]     C:\\Users\\Amin\\AppData\\Roaming\\nltk_data...\n",
      "[nltk_data]   Package punkt is already up-to-date!\n",
      "[nltk_data] Downloading package stopwords to\n",
      "[nltk_data]     C:\\Users\\Amin\\AppData\\Roaming\\nltk_data...\n",
      "[nltk_data]   Package stopwords is already up-to-date!\n"
     ]
    },
    {
     "data": {
      "text/plain": [
       "True"
      ]
     },
     "execution_count": 8,
     "metadata": {},
     "output_type": "execute_result"
    }
   ],
   "source": [
    "import pandas as pd\n",
    "import time\n",
    "import matplotlib.pyplot as plt\n",
    "import nltk\n",
    "from bs4 import BeautifulSoup\n",
    "from nltk.corpus import stopwords\n",
    "import requests\n",
    "from wordcloud import WordCloud\n",
    "from nltk.tokenize import word_tokenize\n",
    "from nltk.stem.snowball import SnowballStemmer\n",
    "from collections import Counter\n",
    "nltk.download('punkt')\n",
    "nltk.download('stopwords')"
   ]
  },
  {
   "cell_type": "code",
   "execution_count": 3,
   "metadata": {},
   "outputs": [],
   "source": [
    "stop_words = set(stopwords.words('german'))\n",
    "stemmer = SnowballStemmer(\"german\")"
   ]
  },
  {
   "cell_type": "code",
   "execution_count": 63,
   "metadata": {},
   "outputs": [],
   "source": [
    "def scrape_article(url):\n",
    "    response = requests.get(url)\n",
    "    soup = BeautifulSoup(response.text, 'html.parser')\n",
    "\n",
    "    articles = []\n",
    "\n",
    "    titles = soup.find_all('h1', class_='article-title')\n",
    "    content_sections = soup.find_all('div', class_='font-m')\n",
    "\n",
    "\n",
    "    for content in content_sections:\n",
    "        article = {\n",
    "            'Titel': [title.get_text(strip=True) for title in titles],\n",
    "            'Content': content.get_text(strip=True)\n",
    "        }\n",
    "\n",
    "        articles.append(article)\n",
    "\n",
    "    return articles"
   ]
  },
  {
   "cell_type": "code",
   "execution_count": 64,
   "metadata": {},
   "outputs": [
    {
     "data": {
      "text/html": [
       "<div>\n",
       "<style scoped>\n",
       "    .dataframe tbody tr th:only-of-type {\n",
       "        vertical-align: middle;\n",
       "    }\n",
       "\n",
       "    .dataframe tbody tr th {\n",
       "        vertical-align: top;\n",
       "    }\n",
       "\n",
       "    .dataframe thead th {\n",
       "        text-align: right;\n",
       "    }\n",
       "</style>\n",
       "<table border=\"1\" class=\"dataframe\">\n",
       "  <thead>\n",
       "    <tr style=\"text-align: right;\">\n",
       "      <th></th>\n",
       "      <th>Titel</th>\n",
       "      <th>Content</th>\n",
       "    </tr>\n",
       "  </thead>\n",
       "  <tbody>\n",
       "    <tr>\n",
       "      <th>0</th>\n",
       "      <td>[Füchse verpflichten Linksaußen: Aitor Arino k...</td>\n",
       "      <td>Aitor Arino wechselt im Sommer vom FC Barcelon...</td>\n",
       "    </tr>\n",
       "    <tr>\n",
       "      <th>1</th>\n",
       "      <td>[Füchse verpflichten Linksaußen: Aitor Arino k...</td>\n",
       "      <td>Da Jerry Tollbring die Füchse aus privater Ent...</td>\n",
       "    </tr>\n",
       "    <tr>\n",
       "      <th>2</th>\n",
       "      <td>[Füchse verpflichten Linksaußen: Aitor Arino k...</td>\n",
       "      <td>Arino und der FC Barcelona, das ist eine ganz ...</td>\n",
       "    </tr>\n",
       "    <tr>\n",
       "      <th>3</th>\n",
       "      <td>[Füchse verpflichten Linksaußen: Aitor Arino k...</td>\n",
       "      <td>Mit Spanien wurde der 89-malige Nationalspiele...</td>\n",
       "    </tr>\n",
       "    <tr>\n",
       "      <th>4</th>\n",
       "      <td>[Füchse verpflichten Linksaußen: Aitor Arino k...</td>\n",
       "      <td>Aitor Arino: „Ich wollte noch einmal in einem ...</td>\n",
       "    </tr>\n",
       "  </tbody>\n",
       "</table>\n",
       "</div>"
      ],
      "text/plain": [
       "                                               Titel  \\\n",
       "0  [Füchse verpflichten Linksaußen: Aitor Arino k...   \n",
       "1  [Füchse verpflichten Linksaußen: Aitor Arino k...   \n",
       "2  [Füchse verpflichten Linksaußen: Aitor Arino k...   \n",
       "3  [Füchse verpflichten Linksaußen: Aitor Arino k...   \n",
       "4  [Füchse verpflichten Linksaußen: Aitor Arino k...   \n",
       "\n",
       "                                             Content  \n",
       "0  Aitor Arino wechselt im Sommer vom FC Barcelon...  \n",
       "1  Da Jerry Tollbring die Füchse aus privater Ent...  \n",
       "2  Arino und der FC Barcelona, das ist eine ganz ...  \n",
       "3  Mit Spanien wurde der 89-malige Nationalspiele...  \n",
       "4  Aitor Arino: „Ich wollte noch einmal in einem ...  "
      ]
     },
     "execution_count": 64,
     "metadata": {},
     "output_type": "execute_result"
    }
   ],
   "source": [
    "url = 'https://www.daikin-hbl.de/de/more/content/f%C3%BCchse-verpflichten-linksau%C3%9Fen-aitor-arino-kommt-zur-neuen-saison-nach-berlin-1'\n",
    "articles = scrape_article(url)\n",
    "df = pd.DataFrame(articles)\n",
    "df.to_csv('arino-fuechse.csv', index=False, encoding='utf-8')\n",
    "df.head()"
   ]
  },
  {
   "cell_type": "code",
   "execution_count": 60,
   "metadata": {},
   "outputs": [
    {
     "name": "stdout",
     "output_type": "stream",
     "text": [
      "0    Aitor Arino wechselt im Sommer vom FC Barcelon...\n",
      "Name: Content, dtype: object\n"
     ]
    }
   ],
   "source": []
  },
  {
   "cell_type": "code",
   "execution_count": 52,
   "metadata": {},
   "outputs": [
    {
     "name": "stdout",
     "output_type": "stream",
     "text": [
      "[]\n"
     ]
    }
   ],
   "source": [
    "url = 'https://www.daikin-hbl.de/de/hbl'\n",
    "\n",
    "response = requests.get(url)\n",
    "soup = BeautifulSoup(response.text, 'html.parser')\n",
    "\n",
    "articles = []\n",
    "\n",
    "#titles = soup.find_all('div data-v-94ebeefc', class_='v-card-title text-h5')\n",
    "titles = soup.find_all('div',class_='v-card-title', attrs={'data-v-94ebeefc':True})\n",
    "print(titles)"
   ]
  },
  {
   "cell_type": "markdown",
   "metadata": {},
   "source": [
    "<div class=\"alert alert-info\"><h3> <code>.csv</code>-Datei und DataFrame erfolgreich erstellt (Anhand Titelseite)</h3>\n",
    "<span><b> Versuche nun, direkt auf die API zuzugreifen und alle Inhalte auf einmal zu extrahieren"
   ]
  },
  {
   "cell_type": "code",
   "execution_count": 53,
   "metadata": {},
   "outputs": [
    {
     "name": "stdout",
     "output_type": "stream",
     "text": [
      "rufe News Seite 2 ab...\n",
      "Error! Statuscode: 404 bei Seite 2\n"
     ]
    },
    {
     "data": {
      "text/html": [
       "<div>\n",
       "<style scoped>\n",
       "    .dataframe tbody tr th:only-of-type {\n",
       "        vertical-align: middle;\n",
       "    }\n",
       "\n",
       "    .dataframe tbody tr th {\n",
       "        vertical-align: top;\n",
       "    }\n",
       "\n",
       "    .dataframe thead th {\n",
       "        text-align: right;\n",
       "    }\n",
       "</style>\n",
       "<table border=\"1\" class=\"dataframe\">\n",
       "  <thead>\n",
       "    <tr style=\"text-align: right;\">\n",
       "      <th></th>\n",
       "    </tr>\n",
       "  </thead>\n",
       "  <tbody>\n",
       "  </tbody>\n",
       "</table>\n",
       "</div>"
      ],
      "text/plain": [
       "Empty DataFrame\n",
       "Columns: []\n",
       "Index: []"
      ]
     },
     "execution_count": 53,
     "metadata": {},
     "output_type": "execute_result"
    }
   ],
   "source": [
    "base_url = 'https://daikin-hbl.de/api/filter'\n",
    "\n",
    "params = {\n",
    "    'type': 'news-list', \n",
    "    'id': 57765,\n",
    "    'page': 2\n",
    "}\n",
    "\n",
    "all_articles = []\n",
    "max_pages = 8\n",
    "\n",
    "while params['page'] <= max_pages:\n",
    "    print(f\"rufe News Seite {params['page']} ab...\")\n",
    "\n",
    "    response = requests.get(base_url, params=params)\n",
    "    \n",
    "    if response.status_code != 200:\n",
    "        print(f\"Error! Statuscode: {response.status_code} bei Seite {params['page']}\")\n",
    "        break\n",
    "\n",
    "    data = response.json()\n",
    "    articles = data.get('articles', [])\n",
    "    if not articles:\n",
    "        print(f'keine weiteren Artikel gefunden')\n",
    "        break\n",
    "    all_articles.extend(articles)\n",
    "\n",
    "    params['page'] += 1\n",
    "    time.sleep(4)\n",
    "\n",
    "df = pd.DataFrame(all_articles)\n",
    "df.head()"
   ]
  },
  {
   "cell_type": "markdown",
   "metadata": {},
   "source": [
    "### Test mit `Selenium`"
   ]
  },
  {
   "cell_type": "code",
   "execution_count": 13,
   "metadata": {},
   "outputs": [
    {
     "data": {
      "text/html": [
       "<div>\n",
       "<style scoped>\n",
       "    .dataframe tbody tr th:only-of-type {\n",
       "        vertical-align: middle;\n",
       "    }\n",
       "\n",
       "    .dataframe tbody tr th {\n",
       "        vertical-align: top;\n",
       "    }\n",
       "\n",
       "    .dataframe thead th {\n",
       "        text-align: right;\n",
       "    }\n",
       "</style>\n",
       "<table border=\"1\" class=\"dataframe\">\n",
       "  <thead>\n",
       "    <tr style=\"text-align: right;\">\n",
       "      <th></th>\n",
       "    </tr>\n",
       "  </thead>\n",
       "  <tbody>\n",
       "  </tbody>\n",
       "</table>\n",
       "</div>"
      ],
      "text/plain": [
       "Empty DataFrame\n",
       "Columns: []\n",
       "Index: []"
      ]
     },
     "execution_count": 13,
     "metadata": {},
     "output_type": "execute_result"
    }
   ],
   "source": []
  }
 ],
 "metadata": {
  "kernelspec": {
   "display_name": "mlmodeling",
   "language": "python",
   "name": "python3"
  },
  "language_info": {
   "codemirror_mode": {
    "name": "ipython",
    "version": 3
   },
   "file_extension": ".py",
   "mimetype": "text/x-python",
   "name": "python",
   "nbconvert_exporter": "python",
   "pygments_lexer": "ipython3",
   "version": "3.9.18"
  }
 },
 "nbformat": 4,
 "nbformat_minor": 2
}
