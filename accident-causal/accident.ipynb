{
 "cells": [
  {
   "cell_type": "markdown",
   "metadata": {},
   "source": [
    "<div class=\"alert alert-info\"><h1>Industrial Accident Causal Analysis"
   ]
  },
  {
   "cell_type": "code",
   "metadata": {
    "ExecuteTime": {
     "end_time": "2025-01-16T10:01:32.227300Z",
     "start_time": "2025-01-16T10:01:30.333526Z"
    }
   },
   "source": [
    "import pandas as pd\n",
    "import numpy as np\n",
    "import matplotlib.pyplot as plt\n",
    "import seaborn as sns\n",
    "from sklearn.feature_extraction.text import TfidfVectorizer\n",
    "import nltk\n",
    "from nltk.corpus import stopwords, wordnet\n",
    "from nltk import tokenize, stem\n",
    "from nltk.stem import WordNetLemmatizer\n",
    "from nltk.sentiment.vader import SentimentIntensityAnalyzer\n",
    "from nltk.tokenize import word_tokenize\n",
    "from wordcloud import WordCloud, STOPWORDS\n",
    "import re\n",
    "import string\n",
    "nltk.download('stopwords')\n",
    "nltk.download('punkt')\n",
    "nltk.download('wordnet')"
   ],
   "outputs": [
    {
     "name": "stderr",
     "output_type": "stream",
     "text": [
      "[nltk_data] Downloading package stopwords to\n",
      "[nltk_data]     C:\\Users\\Amin\\AppData\\Roaming\\nltk_data...\n",
      "[nltk_data]   Package stopwords is already up-to-date!\n",
      "[nltk_data] Downloading package punkt to\n",
      "[nltk_data]     C:\\Users\\Amin\\AppData\\Roaming\\nltk_data...\n",
      "[nltk_data]   Package punkt is already up-to-date!\n",
      "[nltk_data] Downloading package wordnet to\n",
      "[nltk_data]     C:\\Users\\Amin\\AppData\\Roaming\\nltk_data...\n",
      "[nltk_data]   Package wordnet is already up-to-date!\n"
     ]
    },
    {
     "data": {
      "text/plain": [
       "True"
      ]
     },
     "execution_count": 2,
     "metadata": {},
     "output_type": "execute_result"
    }
   ],
   "execution_count": 2
  },
  {
   "cell_type": "markdown",
   "metadata": {},
   "source": [
    "<div class=\"alert alert-info\"><h2>Preprocess Data for further analysis"
   ]
  },
  {
   "cell_type": "code",
   "metadata": {
    "ExecuteTime": {
     "end_time": "2025-01-16T10:01:32.243301Z",
     "start_time": "2025-01-16T10:01:32.236301Z"
    }
   },
   "source": [
    "# Function to convert Months to Seasons\n",
    "def month2season(x):\n",
    "    if x in [9, 10, 11]:\n",
    "        season = 'spring'\n",
    "    elif x in [12, 1, 2]:\n",
    "        season = 'summer'\n",
    "    elif x in [3, 4, 5]:\n",
    "        season = 'autumn'\n",
    "    else:\n",
    "        season = 'winter'\n",
    "    return season"
   ],
   "outputs": [],
   "execution_count": 3
  },
  {
   "cell_type": "code",
   "metadata": {
    "ExecuteTime": {
     "end_time": "2025-01-16T10:01:35.750180Z",
     "start_time": "2025-01-16T10:01:35.639510Z"
    }
   },
   "source": [
    "data = pd.read_csv('with_description.csv').copy()\n",
    "df = pd.DataFrame(data)\n",
    "df = df.drop(columns=['Unnamed: 0'])\n",
    "df = df.rename(columns={\n",
    "    'Data': 'date', \n",
    "    'Countries': 'country', \n",
    "    'Industry Sector': 'sector', \n",
    "    'Genre': 'gender', \n",
    "    'Employee or Third Party': 'employment',\n",
    "    'Critical Risk': 'risk',\n",
    "    'Description': 'description',\n",
    "    'Accident Level': 'level',\n",
    "    'Potential Accident Level': 'potential',\n",
    "    'Local': 'local'\n",
    "    })\n",
    "\n",
    "# convert to datetime and map categories\n",
    "df['date'] = pd.to_datetime(df['date'])\n",
    "df['potential'] = df['potential'].map({\"I\": 1, \"II\": 2, \"III\": 3, \"IV\": 4, \"V\": 5, \"VI\": 6})\n",
    "df['level'] = df['level'].map({\"I\": 1, \"II\": 2, \"III\": 3, \"IV\": 4, \"V\": 5})\n",
    "\n",
    "\n",
    "# separate year / month / day\n",
    "df['year'] = df['date'].dt.year\n",
    "df['month'] = df['date'].dt.month\n",
    "df['day'] = df['date'].dt.day\n",
    "df['weekday'] = df['date'].apply(lambda x: x.day_name())\n",
    "\n",
    "# add seasons\n",
    "df['season'] = df['month'].apply(month2season)\n",
    "\n",
    "\n",
    "df.head()"
   ],
   "outputs": [
    {
     "data": {
      "text/plain": [
       "        date     country     local  sector  level  potential gender  \\\n",
       "0 2016-01-01  Country_01  Local_01  Mining      1          4   Male   \n",
       "1 2016-01-02  Country_02  Local_02  Mining      1          4   Male   \n",
       "2 2016-01-06  Country_01  Local_03  Mining      1          3   Male   \n",
       "3 2016-01-08  Country_01  Local_04  Mining      1          1   Male   \n",
       "4 2016-01-10  Country_01  Local_04  Mining      4          4   Male   \n",
       "\n",
       "             employment                 risk  \\\n",
       "0           Third Party              Pressed   \n",
       "1              Employee  Pressurized Systems   \n",
       "2  Third Party (Remote)         Manual Tools   \n",
       "3           Third Party               Others   \n",
       "4           Third Party               Others   \n",
       "\n",
       "                                         description  year  month  day  \\\n",
       "0  While removing the drill rod of the Jumbo 08 f...  2016      1    1   \n",
       "1  During the activation of a sodium sulphide pum...  2016      1    2   \n",
       "2  In the sub-station MILPO located at level +170...  2016      1    6   \n",
       "3  Being 9:45 am. approximately in the Nv. 1880 C...  2016      1    8   \n",
       "4  Approximately at 11:45 a.m. in circumstances t...  2016      1   10   \n",
       "\n",
       "     weekday  season  \n",
       "0     Friday  summer  \n",
       "1   Saturday  summer  \n",
       "2  Wednesday  summer  \n",
       "3     Friday  summer  \n",
       "4     Sunday  summer  "
      ],
      "text/html": [
       "<div>\n",
       "<style scoped>\n",
       "    .dataframe tbody tr th:only-of-type {\n",
       "        vertical-align: middle;\n",
       "    }\n",
       "\n",
       "    .dataframe tbody tr th {\n",
       "        vertical-align: top;\n",
       "    }\n",
       "\n",
       "    .dataframe thead th {\n",
       "        text-align: right;\n",
       "    }\n",
       "</style>\n",
       "<table border=\"1\" class=\"dataframe\">\n",
       "  <thead>\n",
       "    <tr style=\"text-align: right;\">\n",
       "      <th></th>\n",
       "      <th>date</th>\n",
       "      <th>country</th>\n",
       "      <th>local</th>\n",
       "      <th>sector</th>\n",
       "      <th>level</th>\n",
       "      <th>potential</th>\n",
       "      <th>gender</th>\n",
       "      <th>employment</th>\n",
       "      <th>risk</th>\n",
       "      <th>description</th>\n",
       "      <th>year</th>\n",
       "      <th>month</th>\n",
       "      <th>day</th>\n",
       "      <th>weekday</th>\n",
       "      <th>season</th>\n",
       "    </tr>\n",
       "  </thead>\n",
       "  <tbody>\n",
       "    <tr>\n",
       "      <th>0</th>\n",
       "      <td>2016-01-01</td>\n",
       "      <td>Country_01</td>\n",
       "      <td>Local_01</td>\n",
       "      <td>Mining</td>\n",
       "      <td>1</td>\n",
       "      <td>4</td>\n",
       "      <td>Male</td>\n",
       "      <td>Third Party</td>\n",
       "      <td>Pressed</td>\n",
       "      <td>While removing the drill rod of the Jumbo 08 f...</td>\n",
       "      <td>2016</td>\n",
       "      <td>1</td>\n",
       "      <td>1</td>\n",
       "      <td>Friday</td>\n",
       "      <td>summer</td>\n",
       "    </tr>\n",
       "    <tr>\n",
       "      <th>1</th>\n",
       "      <td>2016-01-02</td>\n",
       "      <td>Country_02</td>\n",
       "      <td>Local_02</td>\n",
       "      <td>Mining</td>\n",
       "      <td>1</td>\n",
       "      <td>4</td>\n",
       "      <td>Male</td>\n",
       "      <td>Employee</td>\n",
       "      <td>Pressurized Systems</td>\n",
       "      <td>During the activation of a sodium sulphide pum...</td>\n",
       "      <td>2016</td>\n",
       "      <td>1</td>\n",
       "      <td>2</td>\n",
       "      <td>Saturday</td>\n",
       "      <td>summer</td>\n",
       "    </tr>\n",
       "    <tr>\n",
       "      <th>2</th>\n",
       "      <td>2016-01-06</td>\n",
       "      <td>Country_01</td>\n",
       "      <td>Local_03</td>\n",
       "      <td>Mining</td>\n",
       "      <td>1</td>\n",
       "      <td>3</td>\n",
       "      <td>Male</td>\n",
       "      <td>Third Party (Remote)</td>\n",
       "      <td>Manual Tools</td>\n",
       "      <td>In the sub-station MILPO located at level +170...</td>\n",
       "      <td>2016</td>\n",
       "      <td>1</td>\n",
       "      <td>6</td>\n",
       "      <td>Wednesday</td>\n",
       "      <td>summer</td>\n",
       "    </tr>\n",
       "    <tr>\n",
       "      <th>3</th>\n",
       "      <td>2016-01-08</td>\n",
       "      <td>Country_01</td>\n",
       "      <td>Local_04</td>\n",
       "      <td>Mining</td>\n",
       "      <td>1</td>\n",
       "      <td>1</td>\n",
       "      <td>Male</td>\n",
       "      <td>Third Party</td>\n",
       "      <td>Others</td>\n",
       "      <td>Being 9:45 am. approximately in the Nv. 1880 C...</td>\n",
       "      <td>2016</td>\n",
       "      <td>1</td>\n",
       "      <td>8</td>\n",
       "      <td>Friday</td>\n",
       "      <td>summer</td>\n",
       "    </tr>\n",
       "    <tr>\n",
       "      <th>4</th>\n",
       "      <td>2016-01-10</td>\n",
       "      <td>Country_01</td>\n",
       "      <td>Local_04</td>\n",
       "      <td>Mining</td>\n",
       "      <td>4</td>\n",
       "      <td>4</td>\n",
       "      <td>Male</td>\n",
       "      <td>Third Party</td>\n",
       "      <td>Others</td>\n",
       "      <td>Approximately at 11:45 a.m. in circumstances t...</td>\n",
       "      <td>2016</td>\n",
       "      <td>1</td>\n",
       "      <td>10</td>\n",
       "      <td>Sunday</td>\n",
       "      <td>summer</td>\n",
       "    </tr>\n",
       "  </tbody>\n",
       "</table>\n",
       "</div>"
      ]
     },
     "execution_count": 4,
     "metadata": {},
     "output_type": "execute_result"
    }
   ],
   "execution_count": 4
  },
  {
   "cell_type": "code",
   "metadata": {
    "ExecuteTime": {
     "end_time": "2025-01-16T10:01:35.844743Z",
     "start_time": "2025-01-16T10:01:35.830741Z"
    }
   },
   "source": [
    "colors = sns.color_palette(\"deep\")\n",
    "colors"
   ],
   "outputs": [
    {
     "data": {
      "text/plain": [
       "[(0.2980392156862745, 0.4470588235294118, 0.6901960784313725),\n",
       " (0.8666666666666667, 0.5176470588235295, 0.3215686274509804),\n",
       " (0.3333333333333333, 0.6588235294117647, 0.40784313725490196),\n",
       " (0.7686274509803922, 0.3058823529411765, 0.3215686274509804),\n",
       " (0.5058823529411764, 0.4470588235294118, 0.7019607843137254),\n",
       " (0.5764705882352941, 0.47058823529411764, 0.3764705882352941),\n",
       " (0.8549019607843137, 0.5450980392156862, 0.7647058823529411),\n",
       " (0.5490196078431373, 0.5490196078431373, 0.5490196078431373),\n",
       " (0.8, 0.7254901960784313, 0.4549019607843137),\n",
       " (0.39215686274509803, 0.7098039215686275, 0.803921568627451)]"
      ],
      "text/html": [
       "<svg  width=\"550\" height=\"55\"><rect x=\"0\" y=\"0\" width=\"55\" height=\"55\" style=\"fill:#4c72b0;stroke-width:2;stroke:rgb(255,255,255)\"/><rect x=\"55\" y=\"0\" width=\"55\" height=\"55\" style=\"fill:#dd8452;stroke-width:2;stroke:rgb(255,255,255)\"/><rect x=\"110\" y=\"0\" width=\"55\" height=\"55\" style=\"fill:#55a868;stroke-width:2;stroke:rgb(255,255,255)\"/><rect x=\"165\" y=\"0\" width=\"55\" height=\"55\" style=\"fill:#c44e52;stroke-width:2;stroke:rgb(255,255,255)\"/><rect x=\"220\" y=\"0\" width=\"55\" height=\"55\" style=\"fill:#8172b3;stroke-width:2;stroke:rgb(255,255,255)\"/><rect x=\"275\" y=\"0\" width=\"55\" height=\"55\" style=\"fill:#937860;stroke-width:2;stroke:rgb(255,255,255)\"/><rect x=\"330\" y=\"0\" width=\"55\" height=\"55\" style=\"fill:#da8bc3;stroke-width:2;stroke:rgb(255,255,255)\"/><rect x=\"385\" y=\"0\" width=\"55\" height=\"55\" style=\"fill:#8c8c8c;stroke-width:2;stroke:rgb(255,255,255)\"/><rect x=\"440\" y=\"0\" width=\"55\" height=\"55\" style=\"fill:#ccb974;stroke-width:2;stroke:rgb(255,255,255)\"/><rect x=\"495\" y=\"0\" width=\"55\" height=\"55\" style=\"fill:#64b5cd;stroke-width:2;stroke:rgb(255,255,255)\"/></svg>"
      ]
     },
     "execution_count": 5,
     "metadata": {},
     "output_type": "execute_result"
    }
   ],
   "execution_count": 5
  },
  {
   "cell_type": "code",
   "metadata": {
    "ExecuteTime": {
     "end_time": "2025-01-16T10:01:36.677742Z",
     "start_time": "2025-01-16T10:01:36.052744Z"
    }
   },
   "source": [
    "\n",
    "countries = df['country'].value_counts()\n",
    "levels = df['level'].value_counts().reset_index()\n",
    "levels.columns = ['level', 'count']\n",
    "\n",
    "fig, axes = plt.subplots(1, 2, figsize=(12, 6))  # 1 Zeile, 2 Spalten\n",
    "\n",
    "# Plot 1: Pie\n",
    "axes[0].pie(\n",
    "    countries, \n",
    "    labels=countries.index, \n",
    "    colors=colors, \n",
    "    autopct=\"%1.1f%%\", \n",
    "    pctdistance=1.1, \n",
    "    labeldistance=0.4\n",
    ")\n",
    "axes[0].set_title(\"Distribution of Accidents per Country\", fontsize=14)\n",
    "\n",
    "# Plot 2: Bar\n",
    "sns.barplot(data=levels, x='level', y='count',hue='level', palette='deep', ax=axes[1], width=.4)\n",
    "axes[1].set_title(\"Distribution of Levels\", fontsize=14)\n",
    "axes[1].set_xlabel(\"Level\", fontsize=12)\n",
    "axes[1].set_ylabel(\"Count\", fontsize=12)\n",
    "\n",
    "# Layout optimieren\n",
    "plt.tight_layout()\n",
    "plt.show()\n"
   ],
   "outputs": [
    {
     "data": {
      "text/plain": [
       "<Figure size 1200x600 with 2 Axes>"
      ],
      "image/png": "[encoded data removed]"
     },
     "metadata": {},
     "output_type": "display_data"
    }
   ],
   "execution_count": 6
  },
  {
   "cell_type": "markdown",
   "metadata": {},
   "source": [
    "<div class=\"alert alert-info\"><h3>NLTK Analysis of Descriptions"
   ]
  },
  {
   "cell_type": "code",
   "metadata": {
    "ExecuteTime": {
     "end_time": "2025-01-16T10:01:37.085803Z",
     "start_time": "2025-01-16T10:01:36.727480Z"
    }
   },
   "source": [
    "stop_words = set(stopwords.words('english'))\n",
    "\n",
    "def clean_text(text):\n",
    "    text = text.lower()\n",
    "\n",
    "    text = text.translate(str.maketrans('', '', string.punctuation))\n",
    "    text = re.sub(r'[^a-zA-Z0-9\\s]', \"\", text)\n",
    "    text = re.sub(r'\\s+', \" \", text).strip()\n",
    "\n",
    "    tokens = word_tokenize(text)\n",
    "    \n",
    "    filtered_tokens = [word for word in tokens if word not in stop_words]\n",
    "    \n",
    "    # Lemmatizing\n",
    "    lemmatizer = WordNetLemmatizer()\n",
    "    lemmatized = [lemmatizer.lemmatize(token) for token in filtered_tokens]\n",
    "\n",
    "    return ' '.join(lemmatized)\n",
    "\n",
    "df['cleaned_description'] = df['description'].apply(clean_text)\n"
   ],
   "outputs": [],
   "execution_count": 7
  },
  {
   "cell_type": "markdown",
   "metadata": {},
   "source": [
    "<div class=\"alert alert-info\"><h3> Sentiment Analysis of Descriptions"
   ]
  },
  {
   "cell_type": "code",
   "metadata": {
    "ExecuteTime": {
     "end_time": "2025-01-16T10:01:37.101804Z",
     "start_time": "2025-01-16T10:01:37.091757Z"
    }
   },
   "source": [
    "def sentiment2score(text):\n",
    "    analyzer = SentimentIntensityAnalyzer()\n",
    "    sent_score = analyzer.polarity_scores(text)['compound']\n",
    "    return float(sent_score)"
   ],
   "outputs": [],
   "execution_count": 8
  },
  {
   "cell_type": "code",
   "metadata": {
    "ExecuteTime": {
     "end_time": "2025-01-16T10:01:39.952646Z",
     "start_time": "2025-01-16T10:01:37.135755Z"
    }
   },
   "source": [
    "df['sentScoreDesc'] = df['cleaned_description'].apply(lambda x: sentiment2score(x))"
   ],
   "outputs": [],
   "execution_count": 9
  },
  {
   "cell_type": "code",
   "metadata": {
    "ExecuteTime": {
     "end_time": "2025-01-16T10:01:39.999981Z",
     "start_time": "2025-01-16T10:01:39.986003Z"
    }
   },
   "source": [
    "df['sentScoreDesc'].head()"
   ],
   "outputs": [
    {
     "data": {
      "text/plain": [
       "0    0.8834\n",
       "1    0.2732\n",
       "2    0.4939\n",
       "3    0.0772\n",
       "4   -0.4215\n",
       "Name: sentScoreDesc, dtype: float64"
      ]
     },
     "execution_count": 10,
     "metadata": {},
     "output_type": "execute_result"
    }
   ],
   "execution_count": 10
  },
  {
   "cell_type": "markdown",
   "metadata": {},
   "source": [
    "<div class=\"alert alert-info\"><h3><u>Analyze Unigrams / Bigrams / Trigrams </h3></u>\n",
    "<p><b><i>Note</i></b><br>Many Words are related to each other (n-grams). Example: right hand, left hand, finger left hand, finger right hand, ..."
   ]
  },
  {
   "cell_type": "code",
   "metadata": {
    "ExecuteTime": {
     "end_time": "2025-01-16T10:01:40.110986Z",
     "start_time": "2025-01-16T10:01:40.097982Z"
    }
   },
   "source": [
    "def ngrams(ngram, trg='', trg_value=''):\n",
    "    if (trg == '') or (trg_value == ''):\n",
    "        string_filtered = df['cleaned_description'].sum().split()\n",
    "\n",
    "    else:\n",
    "        string_filtered = df[df[trg].isin(trg_value)]['cleaned_description'].sum().split()\n",
    "    dic = nltk.FreqDist(nltk.ngrams(string_filtered, ngram)).most_common(20)\n",
    "    ngram_df = pd.DataFrame(dic, columns=['ngram', 'count'])\n",
    "    ngram_df.index = [' '.join(i) for i in ngram_df.ngram]\n",
    "    ngram_df.drop('ngram', axis=1, inplace=True)\n",
    "    return ngram_df\n",
    "\n"
   ],
   "outputs": [],
   "execution_count": 11
  },
  {
   "metadata": {
    "ExecuteTime": {
     "end_time": "2025-01-16T10:03:15.152882Z",
     "start_time": "2025-01-16T10:03:15.104884Z"
    }
   },
   "cell_type": "code",
   "source": [
    "monograms = ngrams(1)[::-1]\n",
    "cloud = WordCloud(\n",
    "    background_color='white',\n",
    "\n",
    ")"
   ],
   "outputs": [
    {
     "data": {
      "text/plain": [
       "              count\n",
       "injury           68\n",
       "hit              71\n",
       "pipe             72\n",
       "finger           72\n",
       "assistant        74\n",
       "equipment        74\n",
       "area             76\n",
       "work             77\n",
       "collaborator     77\n",
       "one              80\n",
       "worker           81\n",
       "moment           91\n",
       "activity         94\n",
       "time            103\n",
       "employee        118\n",
       "operator        124\n",
       "right           154\n",
       "hand            158\n",
       "left            159\n",
       "causing         166"
      ],
      "text/html": [
       "<div>\n",
       "<style scoped>\n",
       "    .dataframe tbody tr th:only-of-type {\n",
       "        vertical-align: middle;\n",
       "    }\n",
       "\n",
       "    .dataframe tbody tr th {\n",
       "        vertical-align: top;\n",
       "    }\n",
       "\n",
       "    .dataframe thead th {\n",
       "        text-align: right;\n",
       "    }\n",
       "</style>\n",
       "<table border=\"1\" class=\"dataframe\">\n",
       "  <thead>\n",
       "    <tr style=\"text-align: right;\">\n",
       "      <th></th>\n",
       "      <th>count</th>\n",
       "    </tr>\n",
       "  </thead>\n",
       "  <tbody>\n",
       "    <tr>\n",
       "      <th>injury</th>\n",
       "      <td>68</td>\n",
       "    </tr>\n",
       "    <tr>\n",
       "      <th>hit</th>\n",
       "      <td>71</td>\n",
       "    </tr>\n",
       "    <tr>\n",
       "      <th>pipe</th>\n",
       "      <td>72</td>\n",
       "    </tr>\n",
       "    <tr>\n",
       "      <th>finger</th>\n",
       "      <td>72</td>\n",
       "    </tr>\n",
       "    <tr>\n",
       "      <th>assistant</th>\n",
       "      <td>74</td>\n",
       "    </tr>\n",
       "    <tr>\n",
       "      <th>equipment</th>\n",
       "      <td>74</td>\n",
       "    </tr>\n",
       "    <tr>\n",
       "      <th>area</th>\n",
       "      <td>76</td>\n",
       "    </tr>\n",
       "    <tr>\n",
       "      <th>work</th>\n",
       "      <td>77</td>\n",
       "    </tr>\n",
       "    <tr>\n",
       "      <th>collaborator</th>\n",
       "      <td>77</td>\n",
       "    </tr>\n",
       "    <tr>\n",
       "      <th>one</th>\n",
       "      <td>80</td>\n",
       "    </tr>\n",
       "    <tr>\n",
       "      <th>worker</th>\n",
       "      <td>81</td>\n",
       "    </tr>\n",
       "    <tr>\n",
       "      <th>moment</th>\n",
       "      <td>91</td>\n",
       "    </tr>\n",
       "    <tr>\n",
       "      <th>activity</th>\n",
       "      <td>94</td>\n",
       "    </tr>\n",
       "    <tr>\n",
       "      <th>time</th>\n",
       "      <td>103</td>\n",
       "    </tr>\n",
       "    <tr>\n",
       "      <th>employee</th>\n",
       "      <td>118</td>\n",
       "    </tr>\n",
       "    <tr>\n",
       "      <th>operator</th>\n",
       "      <td>124</td>\n",
       "    </tr>\n",
       "    <tr>\n",
       "      <th>right</th>\n",
       "      <td>154</td>\n",
       "    </tr>\n",
       "    <tr>\n",
       "      <th>hand</th>\n",
       "      <td>158</td>\n",
       "    </tr>\n",
       "    <tr>\n",
       "      <th>left</th>\n",
       "      <td>159</td>\n",
       "    </tr>\n",
       "    <tr>\n",
       "      <th>causing</th>\n",
       "      <td>166</td>\n",
       "    </tr>\n",
       "  </tbody>\n",
       "</table>\n",
       "</div>"
      ]
     },
     "execution_count": 13,
     "metadata": {},
     "output_type": "execute_result"
    }
   ],
   "execution_count": 13
  }
 ],
 "metadata": {
  "kernelspec": {
   "display_name": "mlmodeling",
   "language": "python",
   "name": "python3"
  },
  "language_info": {
   "codemirror_mode": {
    "name": "ipython",
    "version": 3
   },
   "file_extension": ".py",
   "mimetype": "text/x-python",
   "name": "python",
   "nbconvert_exporter": "python",
   "pygments_lexer": "ipython3",
   "version": "3.9.18"
  }
 },
 "nbformat": 4,
 "nbformat_minor": 2
}
